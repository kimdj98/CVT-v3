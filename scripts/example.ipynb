{
 "cells": [
  {
   "attachments": {},
   "cell_type": "markdown",
   "metadata": {},
   "source": [
    "## **Demo Notebook**\n",
    "\n",
    "This quick notebook will show how to\n",
    "\n",
    "* load config\n",
    "* create the dataset\n",
    "* make a model\n",
    "* load pretrained weights\n",
    "\n",
    "This notebook should be run directly from the `scripts/` directory."
   ]
  },
  {
   "attachments": {},
   "cell_type": "markdown",
   "metadata": {},
   "source": [
    "### **Config**\n",
    "\n",
    "Make sure to change the following paths\n",
    "* `DATASET_DIR`\n",
    "* `LABELS_DIR`"
   ]
  },
  {
   "cell_type": "code",
   "execution_count": 1,
   "metadata": {},
   "outputs": [
    {
     "name": "stdout",
     "output_type": "stream",
     "text": [
      "['wandb', 'model_name', 'experiment', 'loader', 'optimizer', 'scheduler', 'trainer', 'model', 'data', 'visualization', 'loss', 'metrics']\n"
     ]
    }
   ],
   "source": [
    "from hydra import core, initialize, compose\n",
    "from omegaconf import OmegaConf\n",
    "\n",
    "\n",
    "# CHANGE ME\n",
    "DATASET_DIR = '/home/kimdj98/my_folder/datasets/nuscenes'\n",
    "LABELS_DIR = '/home/kimdj98/my_folder/datasets/cvt_labels_nuscenes_v2'\n",
    "\n",
    "\n",
    "core.global_hydra.GlobalHydra.instance().clear()        # required for Hydra in notebooks\n",
    "\n",
    "initialize(config_path='../config')\n",
    "\n",
    "# Add additional command line overrides\n",
    "cfg = compose(\n",
    "    config_name='config',\n",
    "    overrides=[\n",
    "        'experiment.save_dir=../logs/',                 # required for Hydra in notebooks\n",
    "        '+experiment=cvt_nuscenes_vehicle',\n",
    "        f'data.dataset_dir={DATASET_DIR}',\n",
    "        f'data.labels_dir={LABELS_DIR}',\n",
    "        'data.version=v1.0-trainval',\n",
    "        'loader.batch_size=1',\n",
    "    ]\n",
    ")\n",
    "\n",
    "# resolve config references\n",
    "OmegaConf.resolve(cfg)\n",
    "\n",
    "print(list(cfg.keys()))"
   ]
  },
  {
   "attachments": {},
   "cell_type": "markdown",
   "metadata": {},
   "source": [
    "### **Dataset Setup**"
   ]
  },
  {
   "cell_type": "code",
   "execution_count": 3,
   "metadata": {},
   "outputs": [
    {
     "name": "stdout",
     "output_type": "stream",
     "text": [
      "Loaded pretrained weights for efficientnet-b4\n",
      "49\n"
     ]
    }
   ],
   "source": [
    "import torch\n",
    "import numpy as np\n",
    "\n",
    "from cross_view_transformer.common import setup_experiment, load_backbone\n",
    "\n",
    "\n",
    "# Additional splits can be added to cross_view_transformer/data/splits/nuscenes/\n",
    "SPLIT = 'val_qualitative_000'\n",
    "SUBSAMPLE = 5\n",
    "\n",
    "\n",
    "model, data, viz = setup_experiment(cfg)\n",
    "\n",
    "dataset = data.get_split(SPLIT, loader=False)\n",
    "dataset = torch.utils.data.ConcatDataset(dataset)\n",
    "dataset = torch.utils.data.Subset(dataset, range(0, len(dataset), SUBSAMPLE))\n",
    "\n",
    "loader = torch.utils.data.DataLoader(dataset, batch_size=1, shuffle=False, num_workers=2)\n",
    "\n",
    "print(len(dataset))"
   ]
  },
  {
   "cell_type": "code",
   "execution_count": 4,
   "metadata": {},
   "outputs": [
    {
     "ename": "KeyError",
     "evalue": "'prev_images'",
     "output_type": "error",
     "traceback": [
      "\u001b[0;31m---------------------------------------------------------------------------\u001b[0m",
      "\u001b[0;31mKeyError\u001b[0m                                  Traceback (most recent call last)",
      "Cell \u001b[0;32mIn[4], line 1\u001b[0m\n\u001b[0;32m----> 1\u001b[0m viz\u001b[39m.\u001b[39mvisualize(dataset[\u001b[39m0\u001b[39;49m])\n",
      "File \u001b[0;32m~/anaconda3/envs/cvt/lib/python3.8/site-packages/torch/utils/data/dataset.py:471\u001b[0m, in \u001b[0;36mSubset.__getitem__\u001b[0;34m(self, idx)\u001b[0m\n\u001b[1;32m    469\u001b[0m \u001b[39mif\u001b[39;00m \u001b[39misinstance\u001b[39m(idx, \u001b[39mlist\u001b[39m):\n\u001b[1;32m    470\u001b[0m     \u001b[39mreturn\u001b[39;00m \u001b[39mself\u001b[39m\u001b[39m.\u001b[39mdataset[[\u001b[39mself\u001b[39m\u001b[39m.\u001b[39mindices[i] \u001b[39mfor\u001b[39;00m i \u001b[39min\u001b[39;00m idx]]\n\u001b[0;32m--> 471\u001b[0m \u001b[39mreturn\u001b[39;00m \u001b[39mself\u001b[39;49m\u001b[39m.\u001b[39;49mdataset[\u001b[39mself\u001b[39;49m\u001b[39m.\u001b[39;49mindices[idx]]\n",
      "File \u001b[0;32m~/anaconda3/envs/cvt/lib/python3.8/site-packages/torch/utils/data/dataset.py:416\u001b[0m, in \u001b[0;36mConcatDataset.__getitem__\u001b[0;34m(self, idx)\u001b[0m\n\u001b[1;32m    414\u001b[0m \u001b[39melse\u001b[39;00m:\n\u001b[1;32m    415\u001b[0m     sample_idx \u001b[39m=\u001b[39m idx \u001b[39m-\u001b[39m \u001b[39mself\u001b[39m\u001b[39m.\u001b[39mcumulative_sizes[dataset_idx \u001b[39m-\u001b[39m \u001b[39m1\u001b[39m]\n\u001b[0;32m--> 416\u001b[0m \u001b[39mreturn\u001b[39;00m \u001b[39mself\u001b[39;49m\u001b[39m.\u001b[39;49mdatasets[dataset_idx][sample_idx]\n",
      "File \u001b[0;32m~/my_folder/cross_view_transformers/cross_view_transformer/data/nuscenes_dataset_generated.py:52\u001b[0m, in \u001b[0;36mNuScenesGeneratedDataset.__getitem__\u001b[0;34m(self, idx)\u001b[0m\n\u001b[1;32m     49\u001b[0m data \u001b[39m=\u001b[39m Sample(\u001b[39m*\u001b[39m\u001b[39m*\u001b[39m\u001b[39mself\u001b[39m\u001b[39m.\u001b[39msamples[idx])\n\u001b[1;32m     51\u001b[0m \u001b[39mif\u001b[39;00m \u001b[39mself\u001b[39m\u001b[39m.\u001b[39mtransform \u001b[39mis\u001b[39;00m \u001b[39mnot\u001b[39;00m \u001b[39mNone\u001b[39;00m:\n\u001b[0;32m---> 52\u001b[0m     data \u001b[39m=\u001b[39m \u001b[39mself\u001b[39;49m\u001b[39m.\u001b[39;49mtransform(data)\n\u001b[1;32m     54\u001b[0m \u001b[39mreturn\u001b[39;00m data\n",
      "File \u001b[0;32m~/my_folder/cross_view_transformers/cross_view_transformer/data/transforms.py:229\u001b[0m, in \u001b[0;36mLoadDataTransform.__call__\u001b[0;34m(self, batch)\u001b[0m\n\u001b[1;32m    226\u001b[0m     batch \u001b[39m=\u001b[39m Sample(\u001b[39m*\u001b[39m\u001b[39m*\u001b[39mbatch)\n\u001b[1;32m    228\u001b[0m result \u001b[39m=\u001b[39m \u001b[39mdict\u001b[39m()\n\u001b[0;32m--> 229\u001b[0m result\u001b[39m.\u001b[39mupdate(\u001b[39mself\u001b[39;49m\u001b[39m.\u001b[39;49mget_cameras(batch, \u001b[39m*\u001b[39;49m\u001b[39m*\u001b[39;49m\u001b[39mself\u001b[39;49m\u001b[39m.\u001b[39;49mimage_config))\n\u001b[1;32m    230\u001b[0m result\u001b[39m.\u001b[39mupdate(\u001b[39mself\u001b[39m\u001b[39m.\u001b[39mget_bev(batch))\n\u001b[1;32m    231\u001b[0m result\u001b[39m.\u001b[39mupdate(\u001b[39mself\u001b[39m\u001b[39m.\u001b[39mget_velocity_map(batch))\n",
      "File \u001b[0;32m~/my_folder/cross_view_transformers/cross_view_transformer/data/transforms.py:137\u001b[0m, in \u001b[0;36mLoadDataTransform.get_cameras\u001b[0;34m(self, sample, h, w, top_crop)\u001b[0m\n\u001b[1;32m    134\u001b[0m prev_intrinsics \u001b[39m=\u001b[39m \u001b[39mlist\u001b[39m()\n\u001b[1;32m    135\u001b[0m intrinsics \u001b[39m=\u001b[39m \u001b[39mlist\u001b[39m()\n\u001b[0;32m--> 137\u001b[0m \u001b[39mfor\u001b[39;00m prev_image_path, image_path, prev_I_original, I_original \u001b[39min\u001b[39;00m \u001b[39mzip\u001b[39m(sample\u001b[39m.\u001b[39;49mprev_images, sample\u001b[39m.\u001b[39mimages, sample\u001b[39m.\u001b[39mprev_intrinsics, sample\u001b[39m.\u001b[39mintrinsics):\n\u001b[1;32m    138\u001b[0m     h_resize \u001b[39m=\u001b[39m h \u001b[39m+\u001b[39m top_crop\n\u001b[1;32m    139\u001b[0m     w_resize \u001b[39m=\u001b[39m w\n",
      "File \u001b[0;32m~/my_folder/cross_view_transformers/cross_view_transformer/data/transforms.py:38\u001b[0m, in \u001b[0;36mSample.__getattr__\u001b[0;34m(self, key)\u001b[0m\n\u001b[1;32m     37\u001b[0m \u001b[39mdef\u001b[39;00m \u001b[39m__getattr__\u001b[39m(\u001b[39mself\u001b[39m, key):\n\u001b[0;32m---> 38\u001b[0m     \u001b[39mreturn\u001b[39;00m \u001b[39msuper\u001b[39;49m()\u001b[39m.\u001b[39;49m\u001b[39m__getitem__\u001b[39;49m(key)\n",
      "\u001b[0;31mKeyError\u001b[0m: 'prev_images'"
     ]
    }
   ],
   "source": [
    "viz.visualize(dataset[0])"
   ]
  },
  {
   "attachments": {},
   "cell_type": "markdown",
   "metadata": {},
   "source": [
    "### **Network Setup**"
   ]
  },
  {
   "cell_type": "code",
   "execution_count": 6,
   "metadata": {},
   "outputs": [
    {
     "name": "stdout",
     "output_type": "stream",
     "text": [
      "--2023-06-28 16:08:34--  https://www.cs.utexas.edu/~bzhou/cvt/cvt_nuscenes_vehicles_50k.ckpt\n",
      "Resolving www.cs.utexas.edu (www.cs.utexas.edu)... 128.83.120.48\n",
      "Connecting to www.cs.utexas.edu (www.cs.utexas.edu)|128.83.120.48|:443... connected.\n",
      "HTTP request sent, awaiting response... 200 OK\n",
      "Length: 13407137 (13M)\n",
      "Saving to: ‘../logs/cvt_nuscenes_vehicles_50k.ckpt’\n",
      "\n",
      "../logs/cvt_nuscene 100%[===================>]  12.79M  5.21MB/s    in 2.5s    \n",
      "\n",
      "2023-06-28 16:08:38 (5.21 MB/s) - ‘../logs/cvt_nuscenes_vehicles_50k.ckpt’ saved [13407137/13407137]\n",
      "\n"
     ]
    },
    {
     "ename": "RuntimeError",
     "evalue": "CUDA error: out of memory\nCUDA kernel errors might be asynchronously reported at some other API call,so the stacktrace below might be incorrect.\nFor debugging consider passing CUDA_LAUNCH_BLOCKING=1.",
     "output_type": "error",
     "traceback": [
      "\u001b[0;31m---------------------------------------------------------------------------\u001b[0m",
      "\u001b[0;31mRuntimeError\u001b[0m                              Traceback (most recent call last)",
      "Cell \u001b[0;32mIn[6], line 16\u001b[0m\n\u001b[1;32m     12\u001b[0m get_ipython()\u001b[39m.\u001b[39msystem(\u001b[39m'\u001b[39m\u001b[39mwget $MODEL_URL -O $CHECKPOINT_PATH\u001b[39m\u001b[39m'\u001b[39m)\n\u001b[1;32m     15\u001b[0m \u001b[39mif\u001b[39;00m Path(CHECKPOINT_PATH)\u001b[39m.\u001b[39mexists():\n\u001b[0;32m---> 16\u001b[0m     network \u001b[39m=\u001b[39m load_backbone(CHECKPOINT_PATH)\n\u001b[1;32m     17\u001b[0m \u001b[39melse\u001b[39;00m:\n\u001b[1;32m     18\u001b[0m     network \u001b[39m=\u001b[39m model\u001b[39m.\u001b[39mbackbone\n",
      "File \u001b[0;32m~/my_folder/cross_view_transformers/cross_view_transformer/common.py:63\u001b[0m, in \u001b[0;36mload_backbone\u001b[0;34m(checkpoint_path, prefix)\u001b[0m\n\u001b[1;32m     62\u001b[0m \u001b[39mdef\u001b[39;00m \u001b[39mload_backbone\u001b[39m(checkpoint_path: \u001b[39mstr\u001b[39m, prefix: \u001b[39mstr\u001b[39m \u001b[39m=\u001b[39m \u001b[39m'\u001b[39m\u001b[39mbackbone\u001b[39m\u001b[39m'\u001b[39m):\n\u001b[0;32m---> 63\u001b[0m     checkpoint \u001b[39m=\u001b[39m torch\u001b[39m.\u001b[39;49mload(checkpoint_path)\n\u001b[1;32m     65\u001b[0m     cfg \u001b[39m=\u001b[39m DictConfig(checkpoint[\u001b[39m'\u001b[39m\u001b[39mhyper_parameters\u001b[39m\u001b[39m'\u001b[39m])\n\u001b[1;32m     67\u001b[0m     \u001b[39mif\u001b[39;00m \u001b[39m'\u001b[39m\u001b[39mcvt_nuscenes_vehicles_50k\u001b[39m\u001b[39m'\u001b[39m \u001b[39min\u001b[39;00m \u001b[39mstr\u001b[39m(checkpoint_path): \u001b[39m# if load pretrained model for the first-time\u001b[39;00m\n",
      "File \u001b[0;32m~/anaconda3/envs/cvt/lib/python3.8/site-packages/torch/serialization.py:712\u001b[0m, in \u001b[0;36mload\u001b[0;34m(f, map_location, pickle_module, **pickle_load_args)\u001b[0m\n\u001b[1;32m    710\u001b[0m             opened_file\u001b[39m.\u001b[39mseek(orig_position)\n\u001b[1;32m    711\u001b[0m             \u001b[39mreturn\u001b[39;00m torch\u001b[39m.\u001b[39mjit\u001b[39m.\u001b[39mload(opened_file)\n\u001b[0;32m--> 712\u001b[0m         \u001b[39mreturn\u001b[39;00m _load(opened_zipfile, map_location, pickle_module, \u001b[39m*\u001b[39;49m\u001b[39m*\u001b[39;49mpickle_load_args)\n\u001b[1;32m    713\u001b[0m \u001b[39mreturn\u001b[39;00m _legacy_load(opened_file, map_location, pickle_module, \u001b[39m*\u001b[39m\u001b[39m*\u001b[39mpickle_load_args)\n",
      "File \u001b[0;32m~/anaconda3/envs/cvt/lib/python3.8/site-packages/torch/serialization.py:1046\u001b[0m, in \u001b[0;36m_load\u001b[0;34m(zip_file, map_location, pickle_module, pickle_file, **pickle_load_args)\u001b[0m\n\u001b[1;32m   1044\u001b[0m unpickler \u001b[39m=\u001b[39m UnpicklerWrapper(data_file, \u001b[39m*\u001b[39m\u001b[39m*\u001b[39mpickle_load_args)\n\u001b[1;32m   1045\u001b[0m unpickler\u001b[39m.\u001b[39mpersistent_load \u001b[39m=\u001b[39m persistent_load\n\u001b[0;32m-> 1046\u001b[0m result \u001b[39m=\u001b[39m unpickler\u001b[39m.\u001b[39;49mload()\n\u001b[1;32m   1048\u001b[0m torch\u001b[39m.\u001b[39m_utils\u001b[39m.\u001b[39m_validate_loaded_sparse_tensors()\n\u001b[1;32m   1050\u001b[0m \u001b[39mreturn\u001b[39;00m result\n",
      "File \u001b[0;32m~/anaconda3/envs/cvt/lib/python3.8/site-packages/torch/serialization.py:1016\u001b[0m, in \u001b[0;36m_load.<locals>.persistent_load\u001b[0;34m(saved_id)\u001b[0m\n\u001b[1;32m   1014\u001b[0m \u001b[39mif\u001b[39;00m key \u001b[39mnot\u001b[39;00m \u001b[39min\u001b[39;00m loaded_storages:\n\u001b[1;32m   1015\u001b[0m     nbytes \u001b[39m=\u001b[39m numel \u001b[39m*\u001b[39m torch\u001b[39m.\u001b[39m_utils\u001b[39m.\u001b[39m_element_size(dtype)\n\u001b[0;32m-> 1016\u001b[0m     load_tensor(dtype, nbytes, key, _maybe_decode_ascii(location))\n\u001b[1;32m   1018\u001b[0m \u001b[39mreturn\u001b[39;00m loaded_storages[key]\n",
      "File \u001b[0;32m~/anaconda3/envs/cvt/lib/python3.8/site-packages/torch/serialization.py:1001\u001b[0m, in \u001b[0;36m_load.<locals>.load_tensor\u001b[0;34m(dtype, numel, key, location)\u001b[0m\n\u001b[1;32m    997\u001b[0m storage \u001b[39m=\u001b[39m zip_file\u001b[39m.\u001b[39mget_storage_from_record(name, numel, torch\u001b[39m.\u001b[39m_UntypedStorage)\u001b[39m.\u001b[39mstorage()\u001b[39m.\u001b[39m_untyped()\n\u001b[1;32m    998\u001b[0m \u001b[39m# TODO: Once we decide to break serialization FC, we can\u001b[39;00m\n\u001b[1;32m    999\u001b[0m \u001b[39m# stop wrapping with _TypedStorage\u001b[39;00m\n\u001b[1;32m   1000\u001b[0m loaded_storages[key] \u001b[39m=\u001b[39m torch\u001b[39m.\u001b[39mstorage\u001b[39m.\u001b[39m_TypedStorage(\n\u001b[0;32m-> 1001\u001b[0m     wrap_storage\u001b[39m=\u001b[39mrestore_location(storage, location),\n\u001b[1;32m   1002\u001b[0m     dtype\u001b[39m=\u001b[39mdtype)\n",
      "File \u001b[0;32m~/anaconda3/envs/cvt/lib/python3.8/site-packages/torch/serialization.py:176\u001b[0m, in \u001b[0;36mdefault_restore_location\u001b[0;34m(storage, location)\u001b[0m\n\u001b[1;32m    174\u001b[0m \u001b[39mdef\u001b[39;00m \u001b[39mdefault_restore_location\u001b[39m(storage, location):\n\u001b[1;32m    175\u001b[0m     \u001b[39mfor\u001b[39;00m _, _, fn \u001b[39min\u001b[39;00m _package_registry:\n\u001b[0;32m--> 176\u001b[0m         result \u001b[39m=\u001b[39m fn(storage, location)\n\u001b[1;32m    177\u001b[0m         \u001b[39mif\u001b[39;00m result \u001b[39mis\u001b[39;00m \u001b[39mnot\u001b[39;00m \u001b[39mNone\u001b[39;00m:\n\u001b[1;32m    178\u001b[0m             \u001b[39mreturn\u001b[39;00m result\n",
      "File \u001b[0;32m~/anaconda3/envs/cvt/lib/python3.8/site-packages/torch/serialization.py:158\u001b[0m, in \u001b[0;36m_cuda_deserialize\u001b[0;34m(obj, location)\u001b[0m\n\u001b[1;32m    156\u001b[0m         \u001b[39mreturn\u001b[39;00m storage_type(obj\u001b[39m.\u001b[39mnbytes())\n\u001b[1;32m    157\u001b[0m \u001b[39melse\u001b[39;00m:\n\u001b[0;32m--> 158\u001b[0m     \u001b[39mreturn\u001b[39;00m obj\u001b[39m.\u001b[39;49mcuda(device)\n",
      "File \u001b[0;32m~/anaconda3/envs/cvt/lib/python3.8/site-packages/torch/_utils.py:79\u001b[0m, in \u001b[0;36m_cuda\u001b[0;34m(self, device, non_blocking, **kwargs)\u001b[0m\n\u001b[1;32m     77\u001b[0m \u001b[39melse\u001b[39;00m:\n\u001b[1;32m     78\u001b[0m     new_type \u001b[39m=\u001b[39m \u001b[39mgetattr\u001b[39m(torch\u001b[39m.\u001b[39mcuda, \u001b[39mself\u001b[39m\u001b[39m.\u001b[39m\u001b[39m__class__\u001b[39m\u001b[39m.\u001b[39m\u001b[39m__name__\u001b[39m)\n\u001b[0;32m---> 79\u001b[0m     \u001b[39mreturn\u001b[39;00m new_type(\u001b[39mself\u001b[39;49m\u001b[39m.\u001b[39;49msize())\u001b[39m.\u001b[39;49mcopy_(\u001b[39mself\u001b[39;49m, non_blocking)\n",
      "\u001b[0;31mRuntimeError\u001b[0m: CUDA error: out of memory\nCUDA kernel errors might be asynchronously reported at some other API call,so the stacktrace below might be incorrect.\nFor debugging consider passing CUDA_LAUNCH_BLOCKING=1."
     ]
    }
   ],
   "source": [
    "from pathlib import Path\n",
    "\n",
    "\n",
    "# Download a pretrained model (13 Mb)\n",
    "MODEL_URL = 'https://www.cs.utexas.edu/~bzhou/cvt/cvt_nuscenes_vehicles_50k.ckpt'\n",
    "CHECKPOINT_PATH = '../logs/cvt_nuscenes_vehicles_50k.ckpt'\n",
    "\n",
    "\n",
    "# download it one time!\n",
    "# after you download you can comment this out\n",
    "\n",
    "!wget $MODEL_URL -O $CHECKPOINT_PATH\n",
    "\n",
    "\n",
    "if Path(CHECKPOINT_PATH).exists():\n",
    "    network = load_backbone(CHECKPOINT_PATH)\n",
    "else:\n",
    "    network = model.backbone\n",
    "\n",
    "    print(f'{CHECKPOINT_PATH} not found. Using randomly initialized weights.')"
   ]
  },
  {
   "attachments": {},
   "cell_type": "markdown",
   "metadata": {},
   "source": [
    "### **Run the Model**\n",
    "\n",
    "This cell will save the model predictions and render them as a gif.\n",
    "\n",
    "Note: colors will be ugly since gif only supports 256 colors total"
   ]
  },
  {
   "cell_type": "code",
   "execution_count": 16,
   "metadata": {},
   "outputs": [
    {
     "data": {
      "application/vnd.jupyter.widget-view+json": {
       "model_id": "acecccf4aba74ffbac40bf18d8eb710e",
       "version_major": 2,
       "version_minor": 0
      },
      "text/plain": [
       "HTML(value='\\n<div align=\"center\">\\n<img src=\"./predictions.gif?modified=1684602621.921385\" width=\"80%\">\\n</di…"
      ]
     },
     "metadata": {},
     "output_type": "display_data"
    }
   ],
   "source": [
    "import torch\n",
    "import time\n",
    "import imageio\n",
    "import ipywidgets as widgets\n",
    "\n",
    "\n",
    "GIF_PATH = './predictions.gif'\n",
    "\n",
    "\n",
    "device = torch.device('cuda' if torch.cuda.is_available() else 'cpu')\n",
    "\n",
    "network.to(device)\n",
    "network.eval()\n",
    "\n",
    "images = list()\n",
    "\n",
    "with torch.no_grad():\n",
    "    for batch in loader:\n",
    "        \n",
    "        batch = {k: v.to(device) if isinstance(v, torch.Tensor) else v for k, v in batch.items()}\n",
    "        pred = network(batch)\n",
    "\n",
    "        # visualization = np.vstack(viz(batch=batch, pred=pred))\n",
    "        visualization = np.vstack(viz(batch=batch))\n",
    "        images.append(visualization)\n",
    "\n",
    "\n",
    "# Save a gif\n",
    "duration = [1 for _ in images[:-1]] + [5 for _ in images[-1:]]\n",
    "imageio.mimsave(GIF_PATH, images, duration=duration)\n",
    "\n",
    "html = f'''\n",
    "<div align=\"center\">\n",
    "<img src=\"{GIF_PATH}?modified={time.time()}\" width=\"80%\">\n",
    "</div>\n",
    "'''\n",
    "\n",
    "display(widgets.HTML(html))"
   ]
  },
  {
   "cell_type": "code",
   "execution_count": null,
   "metadata": {},
   "outputs": [],
   "source": []
  }
 ],
 "metadata": {
  "interpreter": {
   "hash": "b5f5dfcf6d7848e0c3dac37df27b69d0d5f79a0c0f03f8729db3afb13fab9666"
  },
  "kernelspec": {
   "display_name": "Python 3.8.12 ('bev_transformer_release')",
   "language": "python",
   "name": "python3"
  },
  "language_info": {
   "codemirror_mode": {
    "name": "ipython",
    "version": 3
   },
   "file_extension": ".py",
   "mimetype": "text/x-python",
   "name": "python",
   "nbconvert_exporter": "python",
   "pygments_lexer": "ipython3",
   "version": "3.8.16"
  },
  "orig_nbformat": 4
 },
 "nbformat": 4,
 "nbformat_minor": 2
}
